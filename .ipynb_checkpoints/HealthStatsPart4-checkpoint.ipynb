{
 "cells": [
  {
   "cell_type": "markdown",
   "metadata": {},
   "source": [
    "# Health Stats Part 3: Waist 2 Hip Ratios"
   ]
  },
  {
   "cell_type": "markdown",
   "metadata": {},
   "source": [
    "<!--- Write an explanation of the Waist To Hips Ratio statistic used by health professionals. Please include an explanation of what it is used for, exactly how it is calculated, and how to interpret the results. Note: Formmatting matters. Make this as professional as you can using Markdown.  --->\n",
    "EDIT THIS MARKDOWN CELL"
   ]
  },
  {
   "cell_type": "markdown",
   "metadata": {},
   "source": [
    "## Source Data "
   ]
  },
  {
   "cell_type": "markdown",
   "metadata": {},
   "source": [
    "<!--- Replace the text below with a Markdown bullet list that defines the columns of the CSV file. Be sure to indicate the data type for each column. --->\n",
    "EDIT THIS MARKDOWN CELL"
   ]
  },
  {
   "cell_type": "markdown",
   "metadata": {},
   "source": [
    "## Data Import"
   ]
  },
  {
   "cell_type": "code",
   "execution_count": 108,
   "metadata": {},
   "outputs": [
    {
     "name": "stdout",
     "output_type": "stream",
     "text": [
      "    Waist   Hip Gender\n",
      "ID                    \n",
      "1    30.0  32.0      M\n",
      "2    32.0  37.0      M\n",
      "3    30.0  36.0      M\n",
      "4    33.0  39.0      M\n",
      "5    29.0  33.0      M\n",
      "6    32.0  38.0      M\n",
      "7    33.0  42.0      M\n",
      "8    30.0  40.0      M\n",
      "9    30.0  37.0      M\n",
      "10   32.0  39.0      M\n",
      "11   24.0  35.0      F\n",
      "12   25.0  37.0      F\n",
      "13   24.0  37.0      F\n",
      "14   22.0  34.0      F\n",
      "15   26.0  38.0      F\n",
      "16   26.0  37.0      F\n",
      "17   25.0  38.0      F\n",
      "18   26.0  37.0      F\n",
      "19   28.0  40.0      F\n",
      "20   23.0  35.0      F\n"
     ]
    }
   ],
   "source": [
    "# Goal: Extract the data from the file\n",
    "\n",
    "import numpy as np\n",
    "import pandas as pd\n",
    "\n",
    "rows = pd.read_csv('w2h_data.csv',delimiter=',',dtype=[(\"ID\",int),(\"Waist\",float),(\"Hip\",float),(\"Gender\",object)],index_col=0)\n",
    "print(rows)"
   ]
  },
  {
   "cell_type": "markdown",
   "metadata": {},
   "source": [
    "## Calculations"
   ]
  },
  {
   "cell_type": "code",
   "execution_count": 117,
   "metadata": {
    "scrolled": true
   },
   "outputs": [
    {
     "name": "stdout",
     "output_type": "stream",
     "text": [
      "<class 'numpy.ndarray'>\n",
      "    Waist   Hip Gender  w2h_ratios  Shape\n",
      "ID                                       \n",
      "1    30.0  32.0      M    0.937500  Apple\n",
      "2    32.0  37.0      M    0.864865   Pear\n",
      "3    30.0  36.0      M    0.833333   Pear\n",
      "4    33.0  39.0      M    0.846154   Pear\n",
      "5    29.0  33.0      M    0.878788   Pear\n",
      "6    32.0  38.0      M    0.842105   Pear\n",
      "7    33.0  42.0      M    0.785714   Pear\n",
      "8    30.0  40.0      M    0.750000   Pear\n",
      "9    30.0  37.0      M    0.810811   Pear\n",
      "10   32.0  39.0      M    0.820513   Pear\n",
      "11   24.0  35.0      F    0.685714   Pear\n",
      "12   25.0  37.0      F    0.675676   Pear\n",
      "13   24.0  37.0      F    0.648649   Pear\n",
      "14   22.0  34.0      F    0.647059   Pear\n",
      "15   26.0  38.0      F    0.684211   Pear\n",
      "16   26.0  37.0      F    0.702703   Pear\n",
      "17   25.0  38.0      F    0.657895   Pear\n",
      "18   26.0  37.0      F    0.702703   Pear\n",
      "19   28.0  40.0      F    0.700000   Pear\n",
      "20   23.0  35.0      F    0.657143   Pear\n"
     ]
    }
   ],
   "source": [
    "# Goal: For each row of data calculate and store the w2h_ratio and shape.\n",
    "\n",
    "#calculate the waist to hips ratios\n",
    "w2h_ratios=rows[\"Waist\"]/rows[\"Hip\"]\n",
    "#Converting everything to an array to make more challenging \n",
    "# waist=rows[\"Waist\"].values\n",
    "# hip=rows[\"Hip\"].values\n",
    "# gender=rows[\"Gender\"].values\n",
    "# w2h_ratios=waist/hip\n",
    "# #print(w2h_ratios)\n",
    "\n",
    "#w2_ratios=rows['Waist']/rows['Hip']\n",
    "\n",
    "# determine who is male (True) or female (False)\n",
    "males = ((rows['Gender']=='M'))\n",
    "\n",
    "#males=gender\n",
    "\n",
    "\n",
    "#print(type(males))\n",
    "#print(males)\n",
    "# males with w2h ration > 0.9 are apple shaped\n",
    "male_apples = np.logical_and((w2h_ratios>0.9),males)\n",
    "#print(male_apples)\n",
    "# females with w2h ratio > 0.8 are apple shaped\n",
    "female_apples = np.logical_and((w2h_ratios>0.8),np.logical_not(males))\n",
    "#print(female_apples)\n",
    "# combines the male_apples and female_apples\n",
    "apples=np.logical_or(male_apples,female_apples)\n",
    "\n",
    "# works like an if then else statement\n",
    "shapes=np.where(apples,'Apple','Pear')\n",
    "print(type(shapes))\n",
    "# The code below creates a new results array \n",
    "\n",
    "# add the two new columns to the dtype descriptor\n",
    "\n",
    "rows['w2h_ratios']=pd.Series(w2h_ratios,dtype=float)\n",
    "rows['Shape']=pd.Series(shapes,dtype=object,index=rows.index)\n",
    "\n",
    "print(rows)\n",
    "#test=np.recarray(w2h_ratios,shapes,dtype=[('W2H Ratio',float),('Shape','U5')])\n",
    "#print(test)\n",
    "# # create a new results array with the same number of rows and the new dtype\n",
    "# results = np.zeros(rows.shape,dtype=dt)\n",
    "\n",
    "# # copy over the rows data\n",
    "# for c in rows.dtype.names:\n",
    "#     results[c]=rows[c]\n",
    "    \n",
    "# # add the two new columns\n",
    "# results['W2H Ratio']=w2h_ratios\n",
    "# results['Shape']=shapes\n"
   ]
  },
  {
   "cell_type": "markdown",
   "metadata": {},
   "source": [
    "## Output"
   ]
  },
  {
   "cell_type": "code",
   "execution_count": 119,
   "metadata": {},
   "outputs": [
    {
     "data": {
      "text/html": [
       "<table><tr><th>Waist</th><th>Hip</th><th>Gender</th><th>w2h_ratios</th><th>Shape</th></tr><tr><td>30.0</td><td>32.0</td><td>M</td><td>0.9375</td><td>Apple</td></tr><tr><td>32.0</td><td>37.0</td><td>M</td><td>0.8648648648648649</td><td>Pear</td></tr><tr><td>30.0</td><td>36.0</td><td>M</td><td>0.8333333333333334</td><td>Pear</td></tr><tr><td>33.0</td><td>39.0</td><td>M</td><td>0.8461538461538461</td><td>Pear</td></tr><tr><td>29.0</td><td>33.0</td><td>M</td><td>0.8787878787878788</td><td>Pear</td></tr><tr><td>32.0</td><td>38.0</td><td>M</td><td>0.8421052631578947</td><td>Pear</td></tr><tr><td>33.0</td><td>42.0</td><td>M</td><td>0.7857142857142857</td><td>Pear</td></tr><tr><td>30.0</td><td>40.0</td><td>M</td><td>0.75</td><td>Pear</td></tr><tr><td>30.0</td><td>37.0</td><td>M</td><td>0.8108108108108109</td><td>Pear</td></tr><tr><td>32.0</td><td>39.0</td><td>M</td><td>0.8205128205128205</td><td>Pear</td></tr><tr><td>24.0</td><td>35.0</td><td>F</td><td>0.6857142857142857</td><td>Pear</td></tr><tr><td>25.0</td><td>37.0</td><td>F</td><td>0.6756756756756757</td><td>Pear</td></tr><tr><td>24.0</td><td>37.0</td><td>F</td><td>0.6486486486486487</td><td>Pear</td></tr><tr><td>22.0</td><td>34.0</td><td>F</td><td>0.6470588235294118</td><td>Pear</td></tr><tr><td>26.0</td><td>38.0</td><td>F</td><td>0.6842105263157895</td><td>Pear</td></tr><tr><td>26.0</td><td>37.0</td><td>F</td><td>0.7027027027027027</td><td>Pear</td></tr><tr><td>25.0</td><td>38.0</td><td>F</td><td>0.6578947368421053</td><td>Pear</td></tr><tr><td>26.0</td><td>37.0</td><td>F</td><td>0.7027027027027027</td><td>Pear</td></tr><tr><td>28.0</td><td>40.0</td><td>F</td><td>0.7</td><td>Pear</td></tr><tr><td>23.0</td><td>35.0</td><td>F</td><td>0.6571428571428571</td><td>Pear</td></tr></table>"
      ],
      "text/plain": [
       "<IPython.core.display.HTML object>"
      ]
     },
     "metadata": {},
     "output_type": "display_data"
    }
   ],
   "source": [
    "# Goal: pretty print the rows as an HTML table\n",
    "\n",
    "# Note: this works, but we can do this much better with pandas\n",
    "html_table = '<table><tr><th>'\n",
    "html_table += \"</th><th>\".join(rows.columns.values)\n",
    "html_table += '</th></tr>'\n",
    "for row in rows.values:\n",
    "    html_table += \"<tr><td>\"\n",
    "    html_table += \"</td><td>\".join(str(v) for v in row)\n",
    "    html_table += \"</td></tr>\"\n",
    "html_table += \"</table>\"\n",
    "\n",
    "from IPython.display import HTML, display\n",
    "display(HTML(html_table))\n",
    "\n",
    "# Export to \"StatsResults.csv\"\n",
    "rows.to_csv(\"StatsResults.csv\")"
   ]
  },
  {
   "cell_type": "code",
   "execution_count": null,
   "metadata": {
    "collapsed": true
   },
   "outputs": [],
   "source": []
  },
  {
   "cell_type": "code",
   "execution_count": null,
   "metadata": {
    "collapsed": true
   },
   "outputs": [],
   "source": []
  }
 ],
 "metadata": {
  "kernelspec": {
   "display_name": "Python 3",
   "language": "python",
   "name": "python3"
  },
  "language_info": {
   "codemirror_mode": {
    "name": "ipython",
    "version": 3
   },
   "file_extension": ".py",
   "mimetype": "text/x-python",
   "name": "python",
   "nbconvert_exporter": "python",
   "pygments_lexer": "ipython3",
   "version": "3.6.1"
  }
 },
 "nbformat": 4,
 "nbformat_minor": 2
}
